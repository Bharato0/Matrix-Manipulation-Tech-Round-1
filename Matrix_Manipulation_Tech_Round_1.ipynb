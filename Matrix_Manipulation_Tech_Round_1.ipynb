{
  "nbformat": 4,
  "nbformat_minor": 0,
  "metadata": {
    "colab": {
      "provenance": []
    },
    "kernelspec": {
      "name": "python3",
      "display_name": "Python 3"
    },
    "language_info": {
      "name": "python"
    }
  },
  "cells": [
    {
      "cell_type": "code",
      "execution_count": 16,
      "metadata": {
        "colab": {
          "base_uri": "https://localhost:8080/"
        },
        "id": "tcL4YGIWy7qL",
        "outputId": "13d91ed5-4e95-4860-ad81-43f48c3d2201"
      },
      "outputs": [
        {
          "output_type": "stream",
          "name": "stdout",
          "text": [
            "[1, 2, 3, 4, 5, 6]\n",
            "[20, 21, 22, 23, 24, 7]\n",
            "[19, 32, 33, 34, 25, 8]\n",
            "[18, 31, 36, 35, 26, 9]\n",
            "[17, 30, 29, 28, 27, 10]\n",
            "[16, 15, 14, 13, 12, 11]\n"
          ]
        }
      ],
      "source": [
        "def matrix(n):\n",
        "  matrix = [[0] * n for _ in range(n)]\n",
        "  left, right, top, bottom = 0, n-1, 0, n-1\n",
        "  num = 1\n",
        "\n",
        "  while left <= right and top <= bottom:\n",
        "    for i in range (left, right+1):\n",
        "      matrix[top][i] = num\n",
        "      num += 1\n",
        "    top += 1\n",
        "\n",
        "    for i in range(top, bottom + 1):\n",
        "      matrix[i][right] = num\n",
        "      num += 1\n",
        "    right -= 1\n",
        "\n",
        "    if top <= bottom:\n",
        "      for i in range(right, left - 1, -1):\n",
        "        matrix[bottom][i] = num\n",
        "        num += 1\n",
        "      bottom -= 1\n",
        "\n",
        "    if left <= right:\n",
        "      for i in range(bottom, top - 1, -1):\n",
        "        matrix[i][left] = num\n",
        "        num += 1\n",
        "      left += 1\n",
        "\n",
        "  return matrix\n",
        "\n",
        "n=6\n",
        "result = matrix(n)\n",
        "for row in result:\n",
        "  print(row)"
      ]
    },
    {
      "cell_type": "code",
      "source": [],
      "metadata": {
        "id": "yqvmnCpg1hAN"
      },
      "execution_count": null,
      "outputs": []
    }
  ]
}